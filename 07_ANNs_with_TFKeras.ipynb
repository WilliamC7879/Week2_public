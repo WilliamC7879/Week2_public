{
  "nbformat": 4,
  "nbformat_minor": 0,
  "metadata": {
    "colab": {
      "name": "07_ANNs_with_TFKeras.ipynb",
      "version": "0.3.2",
      "provenance": [],
      "collapsed_sections": []
    },
    "kernelspec": {
      "name": "python3",
      "display_name": "Python 3"
    }
  },
  "cells": [
    {
      "metadata": {
        "id": "9XZEvoDUdSKh",
        "colab_type": "text"
      },
      "cell_type": "markdown",
      "source": [
        "# Artificial Neural Networks with TensorFlow.Keras\n",
        "\n",
        "In this notebook we will see how to use TensorFlow to train ANNs and avoid needing to extract features like we did in the previous notebook.\n",
        "\n",
        "Let's grab the same digit data we used before!"
      ]
    },
    {
      "metadata": {
        "id": "3MIrMPcldSQZ",
        "colab_type": "code",
        "colab": {
          "base_uri": "https://localhost:8080/",
          "height": 102
        },
        "outputId": "3ae42ed8-583a-4feb-b1dc-0343acba59a0"
      },
      "cell_type": "code",
      "source": [
        "! git clone https://github.com/Jakobovski/free-spoken-digit-dataset.git"
      ],
      "execution_count": 126,
      "outputs": [
        {
          "output_type": "stream",
          "text": [
            "Cloning into 'free-spoken-digit-dataset'...\n",
            "remote: Counting objects: 2089, done.\u001b[K\n",
            "remote: Total 2089 (delta 0), reused 0 (delta 0), pack-reused 2089\u001b[K\n",
            "Receiving objects: 100% (2089/2089), 20.90 MiB | 25.69 MiB/s, done.\n",
            "Resolving deltas: 100% (39/39), done.\n"
          ],
          "name": "stdout"
        }
      ]
    },
    {
      "metadata": {
        "id": "qvpcS7sshZzF",
        "colab_type": "code",
        "colab": {}
      },
      "cell_type": "code",
      "source": [
        "import os\n",
        "os.chdir('free-spoken-digit-dataset/recordings')"
      ],
      "execution_count": 0,
      "outputs": []
    },
    {
      "metadata": {
        "id": "6m3pXT_QW5Il",
        "colab_type": "code",
        "colab": {
          "base_uri": "https://localhost:8080/",
          "height": 221
        },
        "outputId": "bef9ca24-e48e-4c45-cb28-e3be2b0eaf34"
      },
      "cell_type": "code",
      "source": [
        "import glob, os\n",
        "\n",
        "wavfiles = list()\n",
        "for file in glob.glob(\"*.wav\"):\n",
        "    wavfiles.append(file)\n",
        "\n",
        "num_points = len(wavfiles)\n",
        "\n",
        "print('{} data points\\n'.format(num_points))\n",
        "\n",
        "# list the first few files\n",
        "wavfiles[:10]\n",
        "\n"
      ],
      "execution_count": 128,
      "outputs": [
        {
          "output_type": "stream",
          "text": [
            "1500 data points\n",
            "\n"
          ],
          "name": "stdout"
        },
        {
          "output_type": "execute_result",
          "data": {
            "text/plain": [
              "['8_jackson_14.wav',\n",
              " '5_jackson_33.wav',\n",
              " '5_jackson_26.wav',\n",
              " '2_nicolas_9.wav',\n",
              " '5_jackson_31.wav',\n",
              " '8_jackson_2.wav',\n",
              " '5_theo_8.wav',\n",
              " '3_nicolas_35.wav',\n",
              " '7_theo_47.wav',\n",
              " '5_theo_24.wav']"
            ]
          },
          "metadata": {
            "tags": []
          },
          "execution_count": 128
        }
      ]
    },
    {
      "metadata": {
        "id": "dY2O4r5bW-j7",
        "colab_type": "code",
        "colab": {}
      },
      "cell_type": "code",
      "source": [
        "\n",
        "import numpy as np\n",
        "import scipy.io.wavfile\n",
        "from IPython.display import Audio\n",
        "import matplotlib.pyplot as plt\n",
        "import matplotlib\n",
        "import tensorflow as tf\n",
        "from sklearn import metrics\n",
        "import pandas as pd\n",
        "\n",
        "%matplotlib inline\n",
        "matplotlib.rcParams.update({'font.size': 16,'figure.figsize':(10,6)})\n"
      ],
      "execution_count": 0,
      "outputs": []
    },
    {
      "metadata": {
        "id": "pbB7aYMZ2gMs",
        "colab_type": "text"
      },
      "cell_type": "markdown",
      "source": [
        "## Load the data"
      ]
    },
    {
      "metadata": {
        "id": "ADKsZNPW4L8J",
        "colab_type": "code",
        "colab": {}
      },
      "cell_type": "code",
      "source": [
        "import re\n",
        "\n",
        "re_digit = re.compile('\\d+_')\n",
        "re_speaker = re.compile('_[a-z]+_')\n",
        "re_trial = re.compile('_\\d+.')\n",
        "\n",
        "X_data = np.ndarray(shape=(num_points,),dtype=object)\n",
        "y_labels = list()\n",
        "\n",
        "label='digit'"
      ],
      "execution_count": 0,
      "outputs": []
    },
    {
      "metadata": {
        "id": "9qcJGxFJ1fZC",
        "colab_type": "code",
        "colab": {
          "base_uri": "https://localhost:8080/",
          "height": 51
        },
        "outputId": "57e86914-10c9-43e5-86fa-f992adc5f6d9"
      },
      "cell_type": "code",
      "source": [
        "ix = 0\n",
        "for sample_file in wavfiles:\n",
        "  try:\n",
        "    \n",
        "    digit = int(re.match( re_digit, sample_file)[0][:-1])\n",
        "    speaker = re.search( re_speaker, sample_file)[0][1:-1]\n",
        "\n",
        "    # read the file\n",
        "    (sample_rate, signal) = scipy.io.wavfile.read(sample_file)\n",
        "    \n",
        "    # some files have two channels... just take the first one\n",
        "    if len(signal.shape) == 2:\n",
        "      signal = signal[:,0]\n",
        "      \n",
        "    \n",
        "    X_data[ix,] = np.array(signal)\n",
        "    \n",
        "    ix+=1\n",
        "    \n",
        "    if label == 'speaker':\n",
        "      y_labels.append(speaker)\n",
        "      \n",
        "    elif label == 'digit':\n",
        "      y_labels.append(digit)\n",
        "      \n",
        "    else:\n",
        "      print(\"I don't know what you want to predict...\")\n",
        "      break\n",
        "      \n",
        "    \n",
        "  except Exception as e:\n",
        "    \n",
        "    # something went wrong!  =(\n",
        "    \n",
        "    print(sample_file)\n",
        "    print(e)\n",
        "    print(X_data.shape)\n",
        "    print(signal.shape)\n",
        "    \n",
        "    break\n"
      ],
      "execution_count": 131,
      "outputs": [
        {
          "output_type": "stream",
          "text": [
            "/usr/local/lib/python3.6/dist-packages/scipy/io/wavfile.py:273: WavFileWarning: Chunk (non-data) not understood, skipping it.\n",
            "  WavFileWarning)\n"
          ],
          "name": "stderr"
        }
      ]
    },
    {
      "metadata": {
        "id": "bjprxl4__Mb8",
        "colab_type": "text"
      },
      "cell_type": "markdown",
      "source": [
        "## Normalize the inputs\n",
        "Each .wav file is a different duration.  If we want to use the raw input as the signals, this will make our neural net cranky.  Let's artifically pad or truncate our input vectors so they're all the same length.  (Warning: we may lose data!)"
      ]
    },
    {
      "metadata": {
        "id": "rXTpE6du1fgv",
        "colab_type": "code",
        "colab": {}
      },
      "cell_type": "code",
      "source": [
        "# Remove the mean from the data\n",
        "# For each data point:\n",
        "#   1) Remove the mean\n",
        "#   2) Make the length = 2000\n",
        "\n",
        "desired_length = 2000\n",
        "\n",
        "## YOUR CODE HERE\n",
        "for i in range(len(X_data)):\n",
        "  X_data[i] = X_data[i] - X_data[i].mean()\n",
        "  ilen = len(X_data[i])\n",
        "  \n",
        "  if ilen < desired_length:\n",
        "    pad_len = desired_length - ilen\n",
        "    X_data[i] = np.append(X_data[i], np.zeros(pad_len))\n",
        "  elif ilen > desired_length:\n",
        "    X_data[i] = X_data[i][:desired_length]"
      ],
      "execution_count": 0,
      "outputs": []
    },
    {
      "metadata": {
        "id": "wkdZ0TLd6HeV",
        "colab_type": "code",
        "colab": {
          "base_uri": "https://localhost:8080/",
          "height": 391
        },
        "outputId": "45c8d0a3-7943-42d6-984c-bbc173ad9dd8"
      },
      "cell_type": "code",
      "source": [
        "plt.figure()\n",
        "plt.plot(X_data[1])"
      ],
      "execution_count": 133,
      "outputs": [
        {
          "output_type": "execute_result",
          "data": {
            "text/plain": [
              "[<matplotlib.lines.Line2D at 0x7f3449d77518>]"
            ]
          },
          "metadata": {
            "tags": []
          },
          "execution_count": 133
        },
        {
          "output_type": "display_data",
          "data": {
            "image/png": "[encoded data removed]",
            "text/plain": [
              "<matplotlib.figure.Figure at 0x7f3449e1b828>"
            ]
          },
          "metadata": {
            "tags": []
          }
        }
      ]
    },
    {
      "metadata": {
        "id": "BwVVx3DaLybg",
        "colab_type": "code",
        "colab": {}
      },
      "cell_type": "code",
      "source": [
        "# turn y_labels into categories (0,1,2)\n",
        "\n",
        "u, y_labels = np.unique(y_labels, return_inverse = True)"
      ],
      "execution_count": 0,
      "outputs": []
    },
    {
      "metadata": {
        "id": "XZkW3thkFtPs",
        "colab_type": "text"
      },
      "cell_type": "markdown",
      "source": [
        "## Split data into test/train split"
      ]
    },
    {
      "metadata": {
        "id": "mANSzEFx1fo7",
        "colab_type": "code",
        "colab": {}
      },
      "cell_type": "code",
      "source": [
        "from sklearn.model_selection import train_test_split\n",
        "\n",
        "# split X and y into training and testing sets\n",
        "X_train, X_test, y_train, y_test = train_test_split(X_data, np.array(y_labels), test_size=0.25)"
      ],
      "execution_count": 0,
      "outputs": []
    },
    {
      "metadata": {
        "id": "1oGFU7vm1fmr",
        "colab_type": "code",
        "colab": {
          "base_uri": "https://localhost:8080/",
          "height": 51
        },
        "outputId": "0c521f78-e7ad-4fdb-b616-df73cfe397cb"
      },
      "cell_type": "code",
      "source": [
        "print(X_train[0].shape)\n",
        "print(y_train.shape)"
      ],
      "execution_count": 136,
      "outputs": [
        {
          "output_type": "stream",
          "text": [
            "(2000,)\n",
            "(1125,)\n"
          ],
          "name": "stdout"
        }
      ]
    },
    {
      "metadata": {
        "id": "oNZex1ySHzGb",
        "colab_type": "text"
      },
      "cell_type": "markdown",
      "source": [
        "## Reformat the labels\n",
        "\n",
        "Next, we want to convert the labels from an integer format (e.g., \"2\"), to a [one hot encoding](https://en.wikipedia.org/wiki/One-hot) (e.g., \"0, 0, 1, 0, 0, 0, 0, 0, 0, 0\"). To do so, we'll use the `tf.keras.utils.to_categorical` [function](https://www.tensorflow.org/api_docs/python/tf/keras/utils/to_categorical) function."
      ]
    },
    {
      "metadata": {
        "id": "WAVsA9rk1fkd",
        "colab_type": "code",
        "colab": {}
      },
      "cell_type": "code",
      "source": [
        "NUM_DIGITS = 10\n",
        "\n",
        "y_train = tf.keras.utils.to_categorical(y_train, NUM_DIGITS)\n",
        "y_test = tf.keras.utils.to_categorical(y_test, NUM_DIGITS)"
      ],
      "execution_count": 0,
      "outputs": []
    },
    {
      "metadata": {
        "id": "DiaSczTAb042",
        "colab_type": "code",
        "colab": {}
      },
      "cell_type": "code",
      "source": [
        "# The X data is in a variable-length array, which will make TensorFlow cranky... we're going to hack something together to fix that\n",
        "\n",
        "\n",
        "X_train_df = pd.DataFrame()\n",
        "for xx in X_train:\n",
        "  X_train_df=X_train_df.append(pd.Series(xx),ignore_index=True)\n",
        "\n",
        "\n",
        "X_test_df = pd.DataFrame()\n",
        "for xx in X_test:\n",
        "  X_test_df=X_test_df.append(pd.Series(xx),ignore_index=True)"
      ],
      "execution_count": 0,
      "outputs": []
    },
    {
      "metadata": {
        "id": "Dr9q1Sd0NdIO",
        "colab_type": "text"
      },
      "cell_type": "markdown",
      "source": [
        "## Build the model\n",
        "\n",
        "Now, we'll create our neural network using the [Keras Sequential API](https://www.tensorflow.org/api_docs/python/tf/keras/Sequential). \n",
        "* Architecture wise, we'll single layer network. \n",
        "* The hidden layer will have 512 units using the [ReLU](https://www.tensorflow.org/api_docs/python/tf/keras/activations/relu) activation function. \n",
        "* The output layer will have 10 units and use [softmax](https://www.tensorflow.org/api_docs/python/tf/keras/activations/softmax) function. \n",
        "* Note: you will need to specify the input shape on the first layer. If you add subsequent layers, this is not necessary. \n",
        "* We will use the [categorical crossentropy](https://www.tensorflow.org/api_docs/python/tf/keras/losses/categorical_crossentropy) loss function, and the [RMSProp](https://www.tensorflow.org/api_docs/python/tf/keras/optimizers/RMSprop) optimizer."
      ]
    },
    {
      "metadata": {
        "id": "S9nggvb4HsYi",
        "colab_type": "code",
        "colab": {
          "base_uri": "https://localhost:8080/",
          "height": 204
        },
        "outputId": "f10db80d-9bdd-4581-d89c-d7e39c1722d2"
      },
      "cell_type": "code",
      "source": [
        "# Build a fully-connected ANN with one hidden layer\n",
        "\n",
        "model = tf.keras.Sequential()\n",
        "model.add(tf.keras.layers.Dense(512, activation = tf.nn.relu, input_shape=X_train[0].shape))   # hidden layer with 512 units and relu activation\n",
        "model.add(tf.keras.layers.Dense(10, activation = tf.nn.softmax))   # output layer with 10 units and softmax activation\n",
        "model.compile(loss='categorical_crossentropy',\n",
        "              optimizer='rmsprop',\n",
        "              metrics=['accuracy'])\n",
        "\n",
        "model.summary()"
      ],
      "execution_count": 139,
      "outputs": [
        {
          "output_type": "stream",
          "text": [
            "_________________________________________________________________\n",
            "Layer (type)                 Output Shape              Param #   \n",
            "=================================================================\n",
            "dense_12 (Dense)             (None, 512)               1024512   \n",
            "_________________________________________________________________\n",
            "dense_13 (Dense)             (None, 10)                5130      \n",
            "=================================================================\n",
            "Total params: 1,029,642\n",
            "Trainable params: 1,029,642\n",
            "Non-trainable params: 0\n",
            "_________________________________________________________________\n"
          ],
          "name": "stdout"
        }
      ]
    },
    {
      "metadata": {
        "id": "0eNUnAweNtnc",
        "colab_type": "text"
      },
      "cell_type": "markdown",
      "source": [
        "## Training\n",
        "\n",
        "Next, we will train the model by using the [fit method](https://www.tensorflow.org/api_docs/python/tf/keras/Sequential#fit) for 10 [epochs](https://www.quora.com/What-is-epochs-in-machine-learning). We will keep track of the training loss and accuracy as we go. Please be patient as this step may take a while depending on your hardware."
      ]
    },
    {
      "metadata": {
        "id": "W5YJMXeKHseP",
        "colab_type": "code",
        "colab": {
          "base_uri": "https://localhost:8080/",
          "height": 714
        },
        "outputId": "c2cd387d-05a7-482b-8e28-77b0fa0d0252"
      },
      "cell_type": "code",
      "source": [
        "history = model.fit(X_train_df, y_train, epochs=10)\n",
        "\n",
        "# plot metrics\n",
        "plt.plot(history.history['acc'])\n",
        "plt.show()"
      ],
      "execution_count": 140,
      "outputs": [
        {
          "output_type": "stream",
          "text": [
            "Epoch 1/10\n",
            "1125/1125 [==============================] - 1s 746us/step - loss: 13.6158 - acc: 0.1138\n",
            "Epoch 2/10\n",
            "1125/1125 [==============================] - 1s 521us/step - loss: 12.5825 - acc: 0.2062\n",
            "Epoch 3/10\n",
            "1125/1125 [==============================] - 1s 511us/step - loss: 12.3613 - acc: 0.2267\n",
            "Epoch 4/10\n",
            "1125/1125 [==============================] - 1s 505us/step - loss: 12.0582 - acc: 0.2462\n",
            "Epoch 5/10\n",
            "1125/1125 [==============================] - 1s 508us/step - loss: 12.0295 - acc: 0.2436\n",
            "Epoch 6/10\n",
            "1125/1125 [==============================] - 1s 513us/step - loss: 11.8645 - acc: 0.2604\n",
            "Epoch 7/10\n",
            "1125/1125 [==============================] - 1s 513us/step - loss: 11.8081 - acc: 0.2613\n",
            "Epoch 8/10\n",
            "1125/1125 [==============================] - 1s 510us/step - loss: 11.8135 - acc: 0.2640\n",
            "Epoch 9/10\n",
            "1125/1125 [==============================] - 1s 517us/step - loss: 11.7877 - acc: 0.2631\n",
            "Epoch 10/10\n",
            "1125/1125 [==============================] - 1s 515us/step - loss: 11.8527 - acc: 0.2604\n"
          ],
          "name": "stdout"
        },
        {
          "output_type": "display_data",
          "data": {
            "image/png": "[encoded data removed]",
            "text/plain": [
              "<matplotlib.figure.Figure at 0x7f3449da6470>"
            ]
          },
          "metadata": {
            "tags": []
          }
        }
      ]
    },
    {
      "metadata": {
        "id": "SxkMOdLrT-2V",
        "colab_type": "text"
      },
      "cell_type": "markdown",
      "source": [
        "## Testing\n",
        "Now that we have trained our model, we want to evaluate it. The training accuracy wasn't great (~35%, depending on the random seed), but better than random (10%).  Let's see how well we do on our test data."
      ]
    },
    {
      "metadata": {
        "id": "86h3mYf5T_Bh",
        "colab_type": "code",
        "colab": {
          "base_uri": "https://localhost:8080/",
          "height": 51
        },
        "outputId": "2a8ba090-d608-4d88-d116-3bff8b0b1446"
      },
      "cell_type": "code",
      "source": [
        "loss, accuracy = model.evaluate(X_test_df, y_test)\n",
        "print('Test accuracy: %.2f' % (accuracy))"
      ],
      "execution_count": 141,
      "outputs": [
        {
          "output_type": "stream",
          "text": [
            "375/375 [==============================] - 0s 304us/step\n",
            "Test accuracy: 0.17\n"
          ],
          "name": "stdout"
        }
      ]
    },
    {
      "metadata": {
        "id": "J6d-b_SrHsl2",
        "colab_type": "code",
        "colab": {
          "base_uri": "https://localhost:8080/",
          "height": 34
        },
        "outputId": "62e5ce4b-8bd5-4590-8427-e3a71b20c894"
      },
      "cell_type": "code",
      "source": [
        "y_pred = model.predict_proba(X_test_df, verbose=1)\n",
        "\n",
        "ix_pred = [np.argmax(y) for y in y_pred]\n",
        "ix_true = [np.argmax(y) for y in y_test]"
      ],
      "execution_count": 142,
      "outputs": [
        {
          "output_type": "stream",
          "text": [
            "375/375 [==============================] - 0s 288us/step\n"
          ],
          "name": "stdout"
        }
      ]
    },
    {
      "metadata": {
        "id": "I0iiseNLWyBc",
        "colab_type": "code",
        "colab": {}
      },
      "cell_type": "code",
      "source": [
        "# Visualize the confusion matrix\n",
        "def plot_cmatrix(cm,labels,title='Confusion Matrix'):\n",
        "  fig = plt.figure()\n",
        "  ax = fig.add_subplot(111)\n",
        "  cax = ax.matshow(cm,cmap='Reds')\n",
        "  plt.title('\\n'+title+'\\n', fontsize=20)\n",
        "  fig.colorbar(cax)\n",
        "  ax.set_xticks(range(len(labels)))\n",
        "  ax.set_yticks(range(len(labels)))\n",
        "  ax.set_xticklabels(labels, fontsize=16)\n",
        "  ax.set_yticklabels(labels, fontsize=16)\n",
        "  plt.xlabel('Predicted', fontsize=16)\n",
        "  plt.ylabel('True', fontsize=16)\n",
        "  plt.show()"
      ],
      "execution_count": 0,
      "outputs": []
    },
    {
      "metadata": {
        "id": "ViciIqK4Xz9t",
        "colab_type": "code",
        "colab": {
          "base_uri": "https://localhost:8080/",
          "height": 457
        },
        "outputId": "cd7ea946-8b75-4028-a6f4-4ecde3f1561b"
      },
      "cell_type": "code",
      "source": [
        "cm = metrics.confusion_matrix(ix_true,ix_pred, range(10))\n",
        "plot_cmatrix(cm, range(10))"
      ],
      "execution_count": 144,
      "outputs": [
        {
          "output_type": "display_data",
          "data": {
            "image/png": "[encoded data removed]",
            "text/plain": [
              "<matplotlib.figure.Figure at 0x7f3449a52390>"
            ]
          },
          "metadata": {
            "tags": []
          }
        }
      ]
    },
    {
      "metadata": {
        "id": "hN0uqYX6ZmH7",
        "colab_type": "text"
      },
      "cell_type": "markdown",
      "source": [
        "### Conclusions\n",
        "As you can see, this is actually a pretty terrible classifier... \n",
        "* Play around with some of the model parameters to see if you can make it better.  Later we'll see how we can use convolutions to solve a similar problem!\n",
        "* Try to see if you can train a better classifier using the frequency spectrum instead of the raw signal.  You won't have to pad/truncate the data because the data should all be the same size in the frequency domain (assuming they are all sampled at the same rate, which they are)!"
      ]
    },
    {
      "metadata": {
        "id": "Hm8YdwHuZwPj",
        "colab_type": "code",
        "colab": {}
      },
      "cell_type": "code",
      "source": [
        ""
      ],
      "execution_count": 0,
      "outputs": []
    }
  ]
}