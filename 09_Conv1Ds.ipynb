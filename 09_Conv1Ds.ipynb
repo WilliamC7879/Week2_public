{
  "nbformat": 4,
  "nbformat_minor": 0,
  "metadata": {
    "colab": {
      "name": "Conv1DStudent.ipynb",
      "version": "0.3.2",
      "provenance": [],
      "collapsed_sections": []
    }
  },
  "cells": [
    {
      "metadata": {
        "id": "PcahCqill_TM",
        "colab_type": "text"
      },
      "cell_type": "markdown",
      "source": [
        "# 1d Convolutional Neural Networks"
      ]
    },
    {
      "metadata": {
        "id": "5juHZFcFugzS",
        "colab_type": "code",
        "colab": {}
      },
      "cell_type": "code",
      "source": [
        "\n",
        "# Imports\n",
        "import numpy as np\n",
        "import os\n",
        "# from utils.utilities import *\n",
        "from sklearn.model_selection import train_test_split\n",
        "import matplotlib.pyplot as plt\n",
        "import tensorflow as tf\n",
        "import pandas as pd\n",
        "import tensorflow as tf\n",
        "from tensorflow import keras"
      ],
      "execution_count": 0,
      "outputs": []
    },
    {
      "metadata": {
        "id": "Bx9AXfRcmGky",
        "colab_type": "text"
      },
      "cell_type": "markdown",
      "source": [
        "### About the Data"
      ]
    },
    {
      "metadata": {
        "id": "8-uE2dd9mJMv",
        "colab_type": "text"
      },
      "cell_type": "markdown",
      "source": [
        "Data is from people doing one of these activities (WALKING, WALKING_UPSTAIRS, WALKING_DOWNSTAIRS, SITTING, STANDING, LAYING) <br><br>\n",
        "The data is from a smartphone and provides the body acceleration, general acceleration and a gyroscope reading <br><br>\n",
        "Data is from: https://archive.ics.uci.edu/ml/datasets/human+activity+recognition+using+smartphones "
      ]
    },
    {
      "metadata": {
        "id": "gHFlVzfY4ZPQ",
        "colab_type": "text"
      },
      "cell_type": "markdown",
      "source": [
        "### Read in data from functions provided below"
      ]
    },
    {
      "metadata": {
        "id": "ikIjLu7w4Mm_",
        "colab_type": "code",
        "colab": {}
      },
      "cell_type": "code",
      "source": [
        "X_train, labels_train, list_ch_train = read_data_train() # train\n",
        "X_test, labels_test, list_ch_test = read_data_test()"
      ],
      "execution_count": 0,
      "outputs": []
    },
    {
      "metadata": {
        "id": "EG3Tq1ajmjOu",
        "colab_type": "code",
        "colab": {
          "base_uri": "https://localhost:8080/",
          "height": 34
        },
        "outputId": "43ce3bb7-5516-4a84-cca5-8029f4e7759c"
      },
      "cell_type": "code",
      "source": [
        "print(X_train.shape)"
      ],
      "execution_count": 60,
      "outputs": [
        {
          "output_type": "stream",
          "text": [
            "(7352, 128, 9)\n"
          ],
          "name": "stdout"
        }
      ]
    },
    {
      "metadata": {
        "id": "MwRtb-8ymqDz",
        "colab_type": "text"
      },
      "cell_type": "markdown",
      "source": [
        "\n",
        "#### Explaining the shape of the data \n",
        "There are 7,352 data points that are classified as doing one of those activities <br>\n",
        "There are 128 time steps <br>\n",
        "There are 9 values for each time step for each data point for the x,y,z values of the body \n",
        "acceleration, general acceleration and gyrscope reading. <br>"
      ]
    },
    {
      "metadata": {
        "id": "V-8mOh7cm75k",
        "colab_type": "text"
      },
      "cell_type": "markdown",
      "source": [
        "### Use train_test_split to create training and validation data and labels"
      ]
    },
    {
      "metadata": {
        "id": "buuR3HH9yTOw",
        "colab_type": "code",
        "colab": {}
      },
      "cell_type": "code",
      "source": [
        "X_train, X_val, labels_train, labels_val = train_test_split(X_train, labels_train, random_state = 0)"
      ],
      "execution_count": 0,
      "outputs": []
    },
    {
      "metadata": {
        "id": "roTpeSQMnKHa",
        "colab_type": "text"
      },
      "cell_type": "markdown",
      "source": [
        "One hot coding is when each row represents one label and it the nonzero column represents what the label is<br>\n",
        " [0,0,0,0,0,1] <br>\n",
        "           ^ This label is LAYING, which was previously represented with a 5\n",
        "           <br><br>"
      ]
    },
    {
      "metadata": {
        "id": "0LiLobJZnscs",
        "colab_type": "text"
      },
      "cell_type": "markdown",
      "source": [
        "### One hot encoding functions are provided at the bottom of this notebook <br> Use these functions to convert the training, validation and testing labels"
      ]
    },
    {
      "metadata": {
        "id": "gZQJY0rYnKeC",
        "colab_type": "code",
        "colab": {}
      },
      "cell_type": "code",
      "source": [
        "labels_train = one_hot(labels_train)\n",
        "labels_val = one_hot(labels_val)\n",
        "labels_test = one_hot(labels_test)"
      ],
      "execution_count": 0,
      "outputs": []
    },
    {
      "metadata": {
        "id": "7bi9-LMuotEG",
        "colab_type": "text"
      },
      "cell_type": "markdown",
      "source": [
        "### Define your Keras model <br>\n",
        "You wlil want to use\n",
        "\n",
        "See for examples on creating Keras modelshttps://github.com/keras-team/keras/blob/master/examples/mnist_cnn.py"
      ]
    },
    {
      "metadata": {
        "id": "9mwwpV8upQYD",
        "colab_type": "code",
        "colab": {
          "base_uri": "https://localhost:8080/",
          "height": 255
        },
        "outputId": "dc249278-9d40-43bc-f416-6525ffc9389f"
      },
      "cell_type": "code",
      "source": [
        "# fill in with your code below\n",
        "model = keras.Sequential()\n",
        "model.add(keras.layers.Conv1D(filters=18, kernel_size=3, padding='same', input_shape=X_train[0].shape)) # padding='same' pads so output is same size as input\n",
        "model.add(keras.layers.GlobalMaxPooling1D())\n",
        "#model.add(keras.layers.MaxPooling1D(pool_size=2, strides=2))\n",
        "#model.add(keras.layers.Flatten())\n",
        "model.add(keras.layers.Dense(labels_train.shape[1], activation=tf.nn.sigmoid)) # sigmoid is good for classification\n",
        "print(model.summary())  # view model"
      ],
      "execution_count": 77,
      "outputs": [
        {
          "output_type": "stream",
          "text": [
            "_________________________________________________________________\n",
            "Layer (type)                 Output Shape              Param #   \n",
            "=================================================================\n",
            "conv1d_14 (Conv1D)           (None, 128, 18)           504       \n",
            "_________________________________________________________________\n",
            "global_max_pooling1d_1 (Glob (None, 18)                0         \n",
            "_________________________________________________________________\n",
            "dense_13 (Dense)             (None, 6)                 114       \n",
            "=================================================================\n",
            "Total params: 618\n",
            "Trainable params: 618\n",
            "Non-trainable params: 0\n",
            "_________________________________________________________________\n",
            "None\n"
          ],
          "name": "stdout"
        }
      ]
    },
    {
      "metadata": {
        "id": "X844AtBlqV1Y",
        "colab_type": "text"
      },
      "cell_type": "markdown",
      "source": [
        "### Compile your model"
      ]
    },
    {
      "metadata": {
        "id": "6KSPl0lMqUUZ",
        "colab_type": "code",
        "colab": {}
      },
      "cell_type": "code",
      "source": [
        "lr = 0.001 # choose a learning rate, this will be a good paramter to tune\n",
        "model.compile( optimizer=tf.train.AdamOptimizer(lr), loss=keras.losses.categorical_crossentropy, metrics = ['accuracy'] )\n",
        "# categorical crossentropy minimizes the loss/difference between predicted probabilities and real probabilities (one-hot)"
      ],
      "execution_count": 0,
      "outputs": []
    },
    {
      "metadata": {
        "id": "pBOK_ZaCq6XR",
        "colab_type": "text"
      },
      "cell_type": "markdown",
      "source": [
        "### Fit your model"
      ]
    },
    {
      "metadata": {
        "id": "6ksWXRzrrCzL",
        "colab_type": "code",
        "colab": {
          "base_uri": "https://localhost:8080/",
          "height": 3454
        },
        "outputId": "1690eb58-c067-435e-d449-22d39cf510b5"
      },
      "cell_type": "code",
      "source": [
        "history = model.fit(X_train,\n",
        "                    labels_train,\n",
        "                    epochs=100,\n",
        "                    batch_size=600, # number of data points used in each epoch\n",
        "                    validation_data=(X_val, labels_val),\n",
        "                    verbose=1 \n",
        "                    )"
      ],
      "execution_count": 79,
      "outputs": [
        {
          "output_type": "stream",
          "text": [
            "Train on 5514 samples, validate on 1838 samples\n",
            "Epoch 1/100\n",
            "5514/5514 [==============================] - 2s 295us/step - loss: 1.7455 - acc: 0.1935 - val_loss: 1.7134 - val_acc: 0.1953\n",
            "Epoch 2/100\n",
            "5514/5514 [==============================] - 1s 228us/step - loss: 1.6855 - acc: 0.2031 - val_loss: 1.6601 - val_acc: 0.2100\n",
            "Epoch 3/100\n",
            "5514/5514 [==============================] - 1s 227us/step - loss: 1.6339 - acc: 0.2216 - val_loss: 1.6122 - val_acc: 0.2818\n",
            "Epoch 4/100\n",
            "5514/5514 [==============================] - 1s 224us/step - loss: 1.5868 - acc: 0.3009 - val_loss: 1.5672 - val_acc: 0.3286\n",
            "Epoch 5/100\n",
            "5514/5514 [==============================] - 1s 227us/step - loss: 1.5424 - acc: 0.3422 - val_loss: 1.5241 - val_acc: 0.3743\n",
            "Epoch 6/100\n",
            "5514/5514 [==============================] - 1s 228us/step - loss: 1.5000 - acc: 0.3785 - val_loss: 1.4827 - val_acc: 0.3993\n",
            "Epoch 7/100\n",
            "5514/5514 [==============================] - 1s 228us/step - loss: 1.4590 - acc: 0.4421 - val_loss: 1.4422 - val_acc: 0.5375\n",
            "Epoch 8/100\n",
            "5514/5514 [==============================] - 1s 225us/step - loss: 1.4189 - acc: 0.5517 - val_loss: 1.4025 - val_acc: 0.5974\n",
            "Epoch 9/100\n",
            "5514/5514 [==============================] - 1s 226us/step - loss: 1.3794 - acc: 0.6019 - val_loss: 1.3628 - val_acc: 0.6469\n",
            "Epoch 10/100\n",
            "5514/5514 [==============================] - 1s 225us/step - loss: 1.3399 - acc: 0.6391 - val_loss: 1.3229 - val_acc: 0.6768\n",
            "Epoch 11/100\n",
            "5514/5514 [==============================] - 1s 225us/step - loss: 1.2999 - acc: 0.6823 - val_loss: 1.2826 - val_acc: 0.7231\n"
          ],
          "name": "stdout"
        },
        {
          "output_type": "stream",
          "text": [
            "Epoch 12/100\n",
            "5514/5514 [==============================] - 1s 226us/step - loss: 1.2590 - acc: 0.7276 - val_loss: 1.2408 - val_acc: 0.7530\n",
            "Epoch 13/100\n",
            "5514/5514 [==============================] - 1s 228us/step - loss: 1.2168 - acc: 0.7583 - val_loss: 1.1984 - val_acc: 0.7856\n",
            "Epoch 14/100\n",
            "5514/5514 [==============================] - 1s 225us/step - loss: 1.1735 - acc: 0.7820 - val_loss: 1.1547 - val_acc: 0.8074\n",
            "Epoch 15/100\n",
            "5514/5514 [==============================] - 1s 225us/step - loss: 1.1294 - acc: 0.8043 - val_loss: 1.1103 - val_acc: 0.8259\n",
            "Epoch 16/100\n",
            "5514/5514 [==============================] - 1s 226us/step - loss: 1.0843 - acc: 0.8210 - val_loss: 1.0651 - val_acc: 0.8373\n",
            "Epoch 17/100\n",
            "5514/5514 [==============================] - 1s 223us/step - loss: 1.0391 - acc: 0.8321 - val_loss: 1.0204 - val_acc: 0.8493\n",
            "Epoch 18/100\n",
            "5514/5514 [==============================] - 1s 222us/step - loss: 0.9943 - acc: 0.8471 - val_loss: 0.9760 - val_acc: 0.8634\n",
            "Epoch 19/100\n",
            "5514/5514 [==============================] - 1s 222us/step - loss: 0.9501 - acc: 0.8560 - val_loss: 0.9326 - val_acc: 0.8667\n",
            "Epoch 20/100\n",
            "5514/5514 [==============================] - 1s 225us/step - loss: 0.9075 - acc: 0.8591 - val_loss: 0.8905 - val_acc: 0.8689\n",
            "Epoch 21/100\n",
            "5514/5514 [==============================] - 1s 224us/step - loss: 0.8658 - acc: 0.8682 - val_loss: 0.8505 - val_acc: 0.8765\n",
            "Epoch 22/100\n",
            "5514/5514 [==============================] - 1s 225us/step - loss: 0.8263 - acc: 0.8720 - val_loss: 0.8117 - val_acc: 0.8825\n",
            "Epoch 23/100\n",
            "1200/5514 [=====>........................] - ETA: 0s - loss: 0.7962 - acc: 0.8633"
          ],
          "name": "stdout"
        },
        {
          "output_type": "stream",
          "text": [
            "5514/5514 [==============================] - 1s 228us/step - loss: 0.7879 - acc: 0.8787 - val_loss: 0.7750 - val_acc: 0.8874\n",
            "Epoch 24/100\n",
            "5514/5514 [==============================] - 1s 228us/step - loss: 0.7512 - acc: 0.8828 - val_loss: 0.7396 - val_acc: 0.8901\n",
            "Epoch 25/100\n",
            "5514/5514 [==============================] - 1s 229us/step - loss: 0.7163 - acc: 0.8867 - val_loss: 0.7060 - val_acc: 0.8928\n",
            "Epoch 26/100\n",
            "5514/5514 [==============================] - 1s 226us/step - loss: 0.6831 - acc: 0.8919 - val_loss: 0.6741 - val_acc: 0.8966\n",
            "Epoch 27/100\n",
            "5514/5514 [==============================] - 1s 225us/step - loss: 0.6519 - acc: 0.8914 - val_loss: 0.6442 - val_acc: 0.8945\n",
            "Epoch 28/100\n",
            "5514/5514 [==============================] - 1s 231us/step - loss: 0.6227 - acc: 0.8948 - val_loss: 0.6166 - val_acc: 0.9004\n",
            "Epoch 29/100\n",
            "5514/5514 [==============================] - 1s 225us/step - loss: 0.5958 - acc: 0.8992 - val_loss: 0.5903 - val_acc: 0.9037\n",
            "Epoch 30/100\n",
            "5514/5514 [==============================] - 1s 227us/step - loss: 0.5709 - acc: 0.8970 - val_loss: 0.5663 - val_acc: 0.9032\n",
            "Epoch 31/100\n",
            "5514/5514 [==============================] - 1s 230us/step - loss: 0.5479 - acc: 0.9010 - val_loss: 0.5448 - val_acc: 0.9042\n",
            "Epoch 32/100\n",
            "5514/5514 [==============================] - 1s 229us/step - loss: 0.5267 - acc: 0.9006 - val_loss: 0.5248 - val_acc: 0.9032\n",
            "Epoch 33/100\n",
            "5514/5514 [==============================] - 1s 225us/step - loss: 0.5070 - acc: 0.9068 - val_loss: 0.5061 - val_acc: 0.9086\n",
            "Epoch 34/100\n",
            "1800/5514 [========>.....................] - ETA: 0s - loss: 0.5021 - acc: 0.9022"
          ],
          "name": "stdout"
        },
        {
          "output_type": "stream",
          "text": [
            "5514/5514 [==============================] - 1s 225us/step - loss: 0.4892 - acc: 0.9075 - val_loss: 0.4888 - val_acc: 0.9091\n",
            "Epoch 35/100\n",
            "5514/5514 [==============================] - 1s 224us/step - loss: 0.4723 - acc: 0.9091 - val_loss: 0.4731 - val_acc: 0.9064\n",
            "Epoch 36/100\n",
            "5514/5514 [==============================] - 1s 223us/step - loss: 0.4570 - acc: 0.9086 - val_loss: 0.4585 - val_acc: 0.9108\n",
            "Epoch 37/100\n",
            "5514/5514 [==============================] - 1s 226us/step - loss: 0.4425 - acc: 0.9117 - val_loss: 0.4448 - val_acc: 0.9113\n",
            "Epoch 38/100\n",
            "5514/5514 [==============================] - 1s 223us/step - loss: 0.4293 - acc: 0.9126 - val_loss: 0.4316 - val_acc: 0.9129\n",
            "Epoch 39/100\n",
            "5514/5514 [==============================] - 1s 226us/step - loss: 0.4168 - acc: 0.9131 - val_loss: 0.4201 - val_acc: 0.9119\n",
            "Epoch 40/100\n",
            "5514/5514 [==============================] - 1s 225us/step - loss: 0.4050 - acc: 0.9160 - val_loss: 0.4089 - val_acc: 0.9146\n",
            "Epoch 41/100\n",
            "5514/5514 [==============================] - 1s 223us/step - loss: 0.3940 - acc: 0.9173 - val_loss: 0.3983 - val_acc: 0.9140\n",
            "Epoch 42/100\n",
            "5514/5514 [==============================] - 1s 226us/step - loss: 0.3835 - acc: 0.9160 - val_loss: 0.3882 - val_acc: 0.9135\n",
            "Epoch 43/100\n",
            "5514/5514 [==============================] - 1s 226us/step - loss: 0.3736 - acc: 0.9182 - val_loss: 0.3792 - val_acc: 0.9146\n",
            "Epoch 44/100\n",
            "5514/5514 [==============================] - 1s 227us/step - loss: 0.3641 - acc: 0.9182 - val_loss: 0.3696 - val_acc: 0.9157\n",
            "Epoch 45/100\n",
            "1800/5514 [========>.....................] - ETA: 0s - loss: 0.3578 - acc: 0.9200"
          ],
          "name": "stdout"
        },
        {
          "output_type": "stream",
          "text": [
            "5514/5514 [==============================] - 1s 225us/step - loss: 0.3553 - acc: 0.9180 - val_loss: 0.3615 - val_acc: 0.9140\n",
            "Epoch 46/100\n",
            "5514/5514 [==============================] - 1s 226us/step - loss: 0.3470 - acc: 0.9198 - val_loss: 0.3542 - val_acc: 0.9146\n",
            "Epoch 47/100\n",
            "5514/5514 [==============================] - 1s 228us/step - loss: 0.3391 - acc: 0.9184 - val_loss: 0.3458 - val_acc: 0.9135\n",
            "Epoch 48/100\n",
            "5514/5514 [==============================] - 1s 226us/step - loss: 0.3316 - acc: 0.9204 - val_loss: 0.3388 - val_acc: 0.9151\n",
            "Epoch 49/100\n",
            "5514/5514 [==============================] - 1s 225us/step - loss: 0.3245 - acc: 0.9206 - val_loss: 0.3319 - val_acc: 0.9140\n",
            "Epoch 50/100\n",
            "5514/5514 [==============================] - 1s 225us/step - loss: 0.3176 - acc: 0.9218 - val_loss: 0.3254 - val_acc: 0.9157\n",
            "Epoch 51/100\n",
            "5514/5514 [==============================] - 1s 224us/step - loss: 0.3112 - acc: 0.9227 - val_loss: 0.3193 - val_acc: 0.9146\n",
            "Epoch 52/100\n",
            "5514/5514 [==============================] - 1s 227us/step - loss: 0.3050 - acc: 0.9231 - val_loss: 0.3136 - val_acc: 0.9184\n",
            "Epoch 53/100\n",
            "5514/5514 [==============================] - 1s 226us/step - loss: 0.2992 - acc: 0.9251 - val_loss: 0.3080 - val_acc: 0.9173\n",
            "Epoch 54/100\n",
            "5514/5514 [==============================] - 1s 226us/step - loss: 0.2936 - acc: 0.9251 - val_loss: 0.3032 - val_acc: 0.9217\n",
            "Epoch 55/100\n",
            "5514/5514 [==============================] - 1s 226us/step - loss: 0.2883 - acc: 0.9247 - val_loss: 0.2975 - val_acc: 0.9206\n",
            "Epoch 56/100\n",
            "1800/5514 [========>.....................] - ETA: 0s - loss: 0.2794 - acc: 0.9344"
          ],
          "name": "stdout"
        },
        {
          "output_type": "stream",
          "text": [
            "5514/5514 [==============================] - 1s 226us/step - loss: 0.2832 - acc: 0.9269 - val_loss: 0.2926 - val_acc: 0.9189\n",
            "Epoch 57/100\n",
            "5514/5514 [==============================] - 1s 225us/step - loss: 0.2782 - acc: 0.9264 - val_loss: 0.2885 - val_acc: 0.9200\n",
            "Epoch 58/100\n",
            "5514/5514 [==============================] - 1s 226us/step - loss: 0.2737 - acc: 0.9267 - val_loss: 0.2837 - val_acc: 0.9238\n",
            "Epoch 59/100\n",
            "5514/5514 [==============================] - 1s 226us/step - loss: 0.2691 - acc: 0.9278 - val_loss: 0.2789 - val_acc: 0.9238\n",
            "Epoch 60/100\n",
            "5514/5514 [==============================] - 1s 226us/step - loss: 0.2648 - acc: 0.9295 - val_loss: 0.2751 - val_acc: 0.9255\n",
            "Epoch 61/100\n",
            "5514/5514 [==============================] - 1s 227us/step - loss: 0.2608 - acc: 0.9280 - val_loss: 0.2713 - val_acc: 0.9227\n",
            "Epoch 62/100\n",
            "5514/5514 [==============================] - 1s 225us/step - loss: 0.2567 - acc: 0.9285 - val_loss: 0.2668 - val_acc: 0.9238\n",
            "Epoch 63/100\n",
            "5514/5514 [==============================] - 1s 226us/step - loss: 0.2527 - acc: 0.9285 - val_loss: 0.2634 - val_acc: 0.9244\n",
            "Epoch 64/100\n",
            "5514/5514 [==============================] - 1s 227us/step - loss: 0.2491 - acc: 0.9291 - val_loss: 0.2607 - val_acc: 0.9249\n",
            "Epoch 65/100\n",
            "5514/5514 [==============================] - 1s 226us/step - loss: 0.2455 - acc: 0.9287 - val_loss: 0.2567 - val_acc: 0.9255\n",
            "Epoch 66/100\n",
            "5514/5514 [==============================] - 1s 226us/step - loss: 0.2421 - acc: 0.9291 - val_loss: 0.2531 - val_acc: 0.9249\n",
            "Epoch 67/100\n",
            "1800/5514 [========>.....................] - ETA: 0s - loss: 0.2429 - acc: 0.9261"
          ],
          "name": "stdout"
        },
        {
          "output_type": "stream",
          "text": [
            "5514/5514 [==============================] - 1s 224us/step - loss: 0.2387 - acc: 0.9296 - val_loss: 0.2502 - val_acc: 0.9249\n",
            "Epoch 68/100\n",
            "5514/5514 [==============================] - 1s 225us/step - loss: 0.2355 - acc: 0.9298 - val_loss: 0.2471 - val_acc: 0.9255\n",
            "Epoch 69/100\n",
            "5514/5514 [==============================] - 1s 222us/step - loss: 0.2324 - acc: 0.9300 - val_loss: 0.2437 - val_acc: 0.9249\n",
            "Epoch 70/100\n",
            "5514/5514 [==============================] - 1s 226us/step - loss: 0.2296 - acc: 0.9296 - val_loss: 0.2407 - val_acc: 0.9238\n",
            "Epoch 71/100\n",
            "5514/5514 [==============================] - 1s 224us/step - loss: 0.2267 - acc: 0.9295 - val_loss: 0.2380 - val_acc: 0.9244\n",
            "Epoch 72/100\n",
            "5514/5514 [==============================] - 1s 225us/step - loss: 0.2239 - acc: 0.9300 - val_loss: 0.2355 - val_acc: 0.9244\n",
            "Epoch 73/100\n",
            "5514/5514 [==============================] - 1s 228us/step - loss: 0.2212 - acc: 0.9304 - val_loss: 0.2332 - val_acc: 0.9244\n",
            "Epoch 74/100\n",
            "5514/5514 [==============================] - 1s 225us/step - loss: 0.2190 - acc: 0.9311 - val_loss: 0.2308 - val_acc: 0.9255\n",
            "Epoch 75/100\n",
            "5514/5514 [==============================] - 1s 228us/step - loss: 0.2161 - acc: 0.9316 - val_loss: 0.2282 - val_acc: 0.9244\n",
            "Epoch 76/100\n",
            "5514/5514 [==============================] - 1s 225us/step - loss: 0.2139 - acc: 0.9313 - val_loss: 0.2256 - val_acc: 0.9249\n",
            "Epoch 77/100\n",
            "5514/5514 [==============================] - 1s 226us/step - loss: 0.2115 - acc: 0.9322 - val_loss: 0.2233 - val_acc: 0.9249\n",
            "Epoch 78/100\n",
            "1800/5514 [========>.....................] - ETA: 0s - loss: 0.2203 - acc: 0.9267"
          ],
          "name": "stdout"
        },
        {
          "output_type": "stream",
          "text": [
            "5514/5514 [==============================] - 1s 226us/step - loss: 0.2092 - acc: 0.9320 - val_loss: 0.2216 - val_acc: 0.9255\n",
            "Epoch 79/100\n",
            "5514/5514 [==============================] - 1s 225us/step - loss: 0.2072 - acc: 0.9320 - val_loss: 0.2194 - val_acc: 0.9260\n",
            "Epoch 80/100\n",
            "5514/5514 [==============================] - 1s 225us/step - loss: 0.2051 - acc: 0.9314 - val_loss: 0.2174 - val_acc: 0.9260\n",
            "Epoch 81/100\n",
            "5514/5514 [==============================] - 1s 226us/step - loss: 0.2031 - acc: 0.9322 - val_loss: 0.2151 - val_acc: 0.9271\n",
            "Epoch 82/100\n",
            "5514/5514 [==============================] - 1s 228us/step - loss: 0.2012 - acc: 0.9324 - val_loss: 0.2132 - val_acc: 0.9266\n",
            "Epoch 83/100\n",
            "5514/5514 [==============================] - 1s 224us/step - loss: 0.1991 - acc: 0.9324 - val_loss: 0.2117 - val_acc: 0.9271\n",
            "Epoch 84/100\n",
            "5514/5514 [==============================] - 1s 226us/step - loss: 0.1974 - acc: 0.9324 - val_loss: 0.2095 - val_acc: 0.9282\n",
            "Epoch 85/100\n",
            "5514/5514 [==============================] - 1s 225us/step - loss: 0.1957 - acc: 0.9329 - val_loss: 0.2077 - val_acc: 0.9287\n",
            "Epoch 86/100\n",
            "5514/5514 [==============================] - 1s 228us/step - loss: 0.1941 - acc: 0.9329 - val_loss: 0.2062 - val_acc: 0.9282\n",
            "Epoch 87/100\n",
            "5514/5514 [==============================] - 1s 223us/step - loss: 0.1924 - acc: 0.9325 - val_loss: 0.2045 - val_acc: 0.9293\n",
            "Epoch 88/100\n",
            "5514/5514 [==============================] - 1s 224us/step - loss: 0.1906 - acc: 0.9329 - val_loss: 0.2028 - val_acc: 0.9293\n",
            "Epoch 89/100\n",
            "1800/5514 [========>.....................] - ETA: 0s - loss: 0.1911 - acc: 0.9378"
          ],
          "name": "stdout"
        },
        {
          "output_type": "stream",
          "text": [
            "5514/5514 [==============================] - 1s 228us/step - loss: 0.1896 - acc: 0.9331 - val_loss: 0.2013 - val_acc: 0.9304\n",
            "Epoch 90/100\n",
            "5514/5514 [==============================] - 1s 225us/step - loss: 0.1877 - acc: 0.9336 - val_loss: 0.2001 - val_acc: 0.9304\n",
            "Epoch 91/100\n",
            "5514/5514 [==============================] - 1s 226us/step - loss: 0.1862 - acc: 0.9336 - val_loss: 0.1984 - val_acc: 0.9298\n",
            "Epoch 92/100\n",
            "5514/5514 [==============================] - 1s 227us/step - loss: 0.1847 - acc: 0.9336 - val_loss: 0.1968 - val_acc: 0.9309\n",
            "Epoch 93/100\n",
            "5514/5514 [==============================] - 1s 225us/step - loss: 0.1833 - acc: 0.9333 - val_loss: 0.1954 - val_acc: 0.9304\n",
            "Epoch 94/100\n",
            "5514/5514 [==============================] - 1s 225us/step - loss: 0.1819 - acc: 0.9336 - val_loss: 0.1940 - val_acc: 0.9309\n",
            "Epoch 95/100\n",
            "5514/5514 [==============================] - 1s 225us/step - loss: 0.1806 - acc: 0.9338 - val_loss: 0.1927 - val_acc: 0.9314\n",
            "Epoch 96/100\n",
            "5514/5514 [==============================] - 1s 227us/step - loss: 0.1794 - acc: 0.9342 - val_loss: 0.1913 - val_acc: 0.9314\n",
            "Epoch 97/100\n",
            "5514/5514 [==============================] - 1s 226us/step - loss: 0.1781 - acc: 0.9343 - val_loss: 0.1900 - val_acc: 0.9309\n",
            "Epoch 98/100\n",
            "5514/5514 [==============================] - 1s 225us/step - loss: 0.1767 - acc: 0.9343 - val_loss: 0.1888 - val_acc: 0.9309\n",
            "Epoch 99/100\n",
            "5514/5514 [==============================] - 1s 225us/step - loss: 0.1756 - acc: 0.9340 - val_loss: 0.1876 - val_acc: 0.9314\n",
            "Epoch 100/100\n",
            "1800/5514 [========>.....................] - ETA: 0s - loss: 0.1654 - acc: 0.9400"
          ],
          "name": "stdout"
        },
        {
          "output_type": "stream",
          "text": [
            "5514/5514 [==============================] - 1s 226us/step - loss: 0.1743 - acc: 0.9342 - val_loss: 0.1865 - val_acc: 0.9309\n"
          ],
          "name": "stdout"
        }
      ]
    },
    {
      "metadata": {
        "id": "2YXazeH8udoG",
        "colab_type": "text"
      },
      "cell_type": "markdown",
      "source": [
        "### Code below prints the test loss and accuracy <br>\n",
        "### Before you print your accuracy and loss, play around with the parameters!!"
      ]
    },
    {
      "metadata": {
        "id": "k0e7vQOO5w90",
        "colab_type": "code",
        "colab": {
          "base_uri": "https://localhost:8080/",
          "height": 51
        },
        "outputId": "e1bdd70f-de3f-4402-ead7-82f7cbfc5887"
      },
      "cell_type": "code",
      "source": [
        "score = model.evaluate(X_test, labels_test, verbose=0)\n",
        "print('Test loss:', score[0])\n",
        "print('Test accuracy:', score[1])"
      ],
      "execution_count": 80,
      "outputs": [
        {
          "output_type": "stream",
          "text": [
            "('Test loss:', 0.3520313796208376)\n",
            "('Test accuracy:', 0.8693586698337292)\n"
          ],
          "name": "stdout"
        }
      ]
    },
    {
      "metadata": {
        "id": "0oQd_q-LxEi8",
        "colab_type": "code",
        "colab": {}
      },
      "cell_type": "code",
      "source": [
        ""
      ],
      "execution_count": 0,
      "outputs": []
    },
    {
      "metadata": {
        "id": "42UVWm_wxEf5",
        "colab_type": "code",
        "colab": {}
      },
      "cell_type": "code",
      "source": [
        ""
      ],
      "execution_count": 0,
      "outputs": []
    },
    {
      "metadata": {
        "id": "DRsI4XwYxFgK",
        "colab_type": "text"
      },
      "cell_type": "markdown",
      "source": [
        "### Provided Functions Below"
      ]
    },
    {
      "metadata": {
        "id": "adnPCq9PuTBq",
        "colab_type": "code",
        "colab": {}
      },
      "cell_type": "code",
      "source": [
        "def read_data_train():\n",
        "  \"\"\" Read data \"\"\"\n",
        "\n",
        "  # Fixed params\n",
        "  n_class = 6\n",
        "  n_steps = 128\n",
        "\n",
        "  label_path = 'https://raw.githubusercontent.com/BeaverWorksMedlytics/datasets/master/week2_conv1d/y_train.txt'\n",
        "  labels = pd.read_csv(label_path, header = None)\n",
        "\n",
        "  list_of_channels = ['body_acc_x', 'body_acc_y', 'body_acc_z', 'body_gyro_x',\n",
        "  'body_gyro_y', 'body_gyro_z', 'total_acc_x', 'total_acc_y', 'total_acc_z']\n",
        "\n",
        "  X = np.zeros((len(labels), n_steps, len(list_of_channels)))\n",
        "\n",
        "  label_path = 'https://raw.githubusercontent.com/BeaverWorksMedlytics/datasets/master/week2_conv1d/IntertialSignals/body_acc_x_train.txt'\n",
        "  dat_ = pd.read_csv(label_path, delim_whitespace = True, header = None)\n",
        "  X[:,:,0] = dat_.as_matrix()\n",
        "\n",
        "  label_path = 'https://raw.githubusercontent.com/BeaverWorksMedlytics/datasets/master/week2_conv1d/IntertialSignals/body_acc_y_train.txt'\n",
        "  dat_ = pd.read_csv(label_path, delim_whitespace = True, header = None)\n",
        "  X[:,:,1] = dat_.as_matrix()\n",
        "\n",
        "  label_path = 'https://raw.githubusercontent.com/BeaverWorksMedlytics/datasets/master/week2_conv1d/IntertialSignals/body_acc_z_train.txt'\n",
        "  dat_ = pd.read_csv(label_path, delim_whitespace = True, header = None)\n",
        "  X[:,:,2] = dat_.as_matrix()\n",
        "\n",
        "  label_path = 'https://raw.githubusercontent.com/BeaverWorksMedlytics/datasets/master/week2_conv1d/IntertialSignals/body_gyro_x_train.txt'\n",
        "  dat_ = pd.read_csv(label_path, delim_whitespace = True, header = None)\n",
        "  X[:,:,3] = dat_.as_matrix()\n",
        "\n",
        "  label_path = 'https://raw.githubusercontent.com/BeaverWorksMedlytics/datasets/master/week2_conv1d/IntertialSignals/body_gyro_y_train.txt'\n",
        "  dat_ = pd.read_csv(label_path, delim_whitespace = True, header = None)\n",
        "  X[:,:,4] = dat_.as_matrix()\n",
        "\n",
        "  label_path = 'https://raw.githubusercontent.com/BeaverWorksMedlytics/datasets/master/week2_conv1d/IntertialSignals/body_gyro_z_train.txt'\n",
        "  dat_ = pd.read_csv(label_path, delim_whitespace = True, header = None)\n",
        "  X[:,:,5] = dat_.as_matrix()\n",
        "\n",
        "  label_path = 'https://raw.githubusercontent.com/BeaverWorksMedlytics/datasets/master/week2_conv1d/IntertialSignals/total_acc_x_train.txt'\n",
        "  dat_ = pd.read_csv(label_path, delim_whitespace = True, header = None)\n",
        "  X[:,:,6] = dat_.as_matrix()\n",
        "\n",
        "  label_path = 'https://raw.githubusercontent.com/BeaverWorksMedlytics/datasets/master/week2_conv1d/IntertialSignals/total_acc_y_train.txt'\n",
        "  dat_ = pd.read_csv(label_path, delim_whitespace = True, header = None)\n",
        "  X[:,:,7] = dat_.as_matrix()\n",
        "\n",
        "  label_path = 'https://raw.githubusercontent.com/BeaverWorksMedlytics/datasets/master/week2_conv1d/IntertialSignals/total_acc_z_train.txt'\n",
        "  dat_ = pd.read_csv(label_path, delim_whitespace = True, header = None)\n",
        "  X[:,:,8] = dat_.as_matrix()\n",
        "\n",
        "\n",
        "  # Return \n",
        "  return X, labels[0].values, list_of_channels"
      ],
      "execution_count": 0,
      "outputs": []
    },
    {
      "metadata": {
        "id": "iDJBOkx9x0HZ",
        "colab_type": "code",
        "colab": {}
      },
      "cell_type": "code",
      "source": [
        "def read_data_test():\n",
        "  \"\"\" Read data \"\"\"\n",
        "\n",
        "  # Fixed params\n",
        "  n_class = 6\n",
        "  n_steps = 128\n",
        "\n",
        "  label_path = 'https://raw.githubusercontent.com/BeaverWorksMedlytics/datasets/master/week2_conv1d/y_test.txt'\n",
        "  labels = pd.read_csv(label_path, header = None)\n",
        "\n",
        "  list_of_channels = ['body_acc_x', 'body_acc_y', 'body_acc_z', 'body_gyro_x',\n",
        "  'body_gyro_y', 'body_gyro_z', 'total_acc_x', 'total_acc_y', 'total_acc_z']\n",
        "\n",
        "  X = np.zeros((len(labels), n_steps, len(list_of_channels)))\n",
        "\n",
        "  label_path = 'https://raw.githubusercontent.com/BeaverWorksMedlytics/datasets/master/week2_conv1d/IntertialSignals/body_acc_x_test.txt'\n",
        "  dat_ = pd.read_csv(label_path, delim_whitespace = True, header = None)\n",
        "  X[:,:,0] = dat_.as_matrix()\n",
        "\n",
        "  label_path = 'https://raw.githubusercontent.com/BeaverWorksMedlytics/datasets/master/week2_conv1d/IntertialSignals/body_acc_y_test.txt'\n",
        "  dat_ = pd.read_csv(label_path, delim_whitespace = True, header = None)\n",
        "  X[:,:,1] = dat_.as_matrix()\n",
        "\n",
        "  label_path = 'https://raw.githubusercontent.com/BeaverWorksMedlytics/datasets/master/week2_conv1d/IntertialSignals/body_acc_z_test.txt'\n",
        "  dat_ = pd.read_csv(label_path, delim_whitespace = True, header = None)\n",
        "  X[:,:,2] = dat_.as_matrix()\n",
        "\n",
        "  label_path = 'https://raw.githubusercontent.com/BeaverWorksMedlytics/datasets/master/week2_conv1d/IntertialSignals/body_gyro_x_test.txt'\n",
        "  dat_ = pd.read_csv(label_path, delim_whitespace = True, header = None)\n",
        "  X[:,:,3] = dat_.as_matrix()\n",
        "\n",
        "  label_path = 'https://raw.githubusercontent.com/BeaverWorksMedlytics/datasets/master/week2_conv1d/IntertialSignals/body_gyro_y_test.txt'\n",
        "  dat_ = pd.read_csv(label_path, delim_whitespace = True, header = None)\n",
        "  X[:,:,4] = dat_.as_matrix()\n",
        "\n",
        "  label_path = 'https://raw.githubusercontent.com/BeaverWorksMedlytics/datasets/master/week2_conv1d/IntertialSignals/body_gyro_z_test.txt'\n",
        "  dat_ = pd.read_csv(label_path, delim_whitespace = True, header = None)\n",
        "  X[:,:,5] = dat_.as_matrix()\n",
        "\n",
        "  label_path = 'https://raw.githubusercontent.com/BeaverWorksMedlytics/datasets/master/week2_conv1d/IntertialSignals/total_acc_x_test.txt'\n",
        "  dat_ = pd.read_csv(label_path, delim_whitespace = True, header = None)\n",
        "  X[:,:,6] = dat_.as_matrix()\n",
        "\n",
        "  label_path = 'https://raw.githubusercontent.com/BeaverWorksMedlytics/datasets/master/week2_conv1d/IntertialSignals/total_acc_y_test.txt'\n",
        "  dat_ = pd.read_csv(label_path, delim_whitespace = True, header = None)\n",
        "  X[:,:,7] = dat_.as_matrix()\n",
        "\n",
        "  label_path = 'https://raw.githubusercontent.com/BeaverWorksMedlytics/datasets/master/week2_conv1d/IntertialSignals/total_acc_z_test.txt'\n",
        "  dat_ = pd.read_csv(label_path, delim_whitespace = True, header = None)\n",
        "  X[:,:,8] = dat_.as_matrix()\n",
        "\n",
        "\n",
        "  # Return \n",
        "  return X, labels[0].values, list_of_channels"
      ],
      "execution_count": 0,
      "outputs": []
    },
    {
      "metadata": {
        "id": "wrog_9co1HhG",
        "colab_type": "code",
        "colab": {}
      },
      "cell_type": "code",
      "source": [
        "def one_hot(labels, n_class = 6):\n",
        "\t\"\"\" One-hot encoding \"\"\"\n",
        "\texpansion = np.eye(n_class)\n",
        "\ty = expansion[:, labels-1].T\n",
        "\tassert y.shape[1] == n_class, \"Wrong number of labels!\"\n",
        "\n",
        "\treturn y"
      ],
      "execution_count": 0,
      "outputs": []
    },
    {
      "metadata": {
        "id": "EYft5h8x1IbU",
        "colab_type": "code",
        "colab": {}
      },
      "cell_type": "code",
      "source": [
        "def get_batches(X, y, batch_size = 100):\n",
        "\t\"\"\" Return a generator for batches \"\"\"\n",
        "\tn_batches = len(X) // batch_size\n",
        "\tX, y = X[:n_batches*batch_size], y[:n_batches*batch_size]\n",
        "\n",
        "\t# Loop over batches and yield\n",
        "\tfor b in range(0, len(X), batch_size):\n",
        "\t\tyield X[b:b+batch_size], y[b:b+batch_size]"
      ],
      "execution_count": 0,
      "outputs": []
    },
    {
      "metadata": {
        "id": "Sfwx7f1icYwo",
        "colab_type": "code",
        "colab": {}
      },
      "cell_type": "code",
      "source": [
        ""
      ],
      "execution_count": 0,
      "outputs": []
    }
  ]
}